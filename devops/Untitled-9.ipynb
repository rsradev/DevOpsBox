{
 "cells": [
  {
   "cell_type": "markdown",
   "metadata": {},
   "source": [
    "##### Observability and Monitoring: Introduction"
   ]
  },
  {
   "cell_type": "markdown",
   "metadata": {},
   "source": [
    "1. Monitoring:\n",
    "   * The process of collecting data to track performance of application or infrastructure\n",
    "   * Primarily used to detect and respond to known issues\n",
    "  \n",
    "2. Obesrvability:\n",
    "    * The ability to understand the internal state of a system\n",
    "    * Goes beyond monitoring to provide deep insights for debugging and optimization\n",
    "    * Ensure system reliability and uptime\n",
    "    * Detect and address issues quickly\n",
    "    * Optimize performance in complex, distributed systems\n"
   ]
  },
  {
   "cell_type": "markdown",
   "metadata": {},
   "source": [
    "It focuses on collecting predefined metrics, setting thresholds, and generating alerts for known issues."
   ]
  },
  {
   "cell_type": "markdown",
   "metadata": {},
   "source": [
    "Observability focuses on understanding why something is happening in a system.\n",
    "It relies on analyzing outputs like logs, metrics, and traces to infer the system’s internal state.\n",
    "Key use cases include debugging complex distributed systems, diagnosing unknown issues, and ensuring high system availability."
   ]
  },
  {
   "cell_type": "markdown",
   "metadata": {},
   "source": [
    "Observability and monitoring are foundational practices in modern software and infrastructure management. They help teams ensure systems are reliable, performant, and capable of handling increasing complexity.\n",
    "Observability and monitoring provide the visibility needed to manage complexity, prevent outages, and optimize performance.Together, observability and monitoring empower teams to maintain resilient systems, reduce downtime, and provide better user experiences."
   ]
  },
  {
   "cell_type": "code",
   "execution_count": 2,
   "metadata": {},
   "outputs": [
    {
     "data": {
      "text/plain": [
       "22"
      ]
     },
     "execution_count": 2,
     "metadata": {},
     "output_type": "execute_result"
    }
   ],
   "source": [
    "len('BG17UNCR70001598068750')"
   ]
  },
  {
   "cell_type": "code",
   "execution_count": null,
   "metadata": {},
   "outputs": [],
   "source": []
  }
 ],
 "metadata": {
  "kernelspec": {
   "display_name": "3.13.1",
   "language": "python",
   "name": "python3"
  },
  "language_info": {
   "codemirror_mode": {
    "name": "ipython",
    "version": 3
   },
   "file_extension": ".py",
   "mimetype": "text/x-python",
   "name": "python",
   "nbconvert_exporter": "python",
   "pygments_lexer": "ipython3",
   "version": "3.13.1"
  }
 },
 "nbformat": 4,
 "nbformat_minor": 2
}
